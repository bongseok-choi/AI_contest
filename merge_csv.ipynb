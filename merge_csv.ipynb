{
  "nbformat": 4,
  "nbformat_minor": 0,
  "metadata": {
    "colab": {
      "provenance": [],
      "authorship_tag": "ABX9TyNd0P19mRUlfOyinviyc16O",
      "include_colab_link": true
    },
    "kernelspec": {
      "name": "python3",
      "display_name": "Python 3"
    },
    "language_info": {
      "name": "python"
    }
  },
  "cells": [
    {
      "cell_type": "markdown",
      "metadata": {
        "id": "view-in-github",
        "colab_type": "text"
      },
      "source": [
        "<a href=\"https://colab.research.google.com/github/bongseok-choi/AI_contest/blob/main/merge_csv.ipynb\" target=\"_parent\"><img src=\"https://colab.research.google.com/assets/colab-badge.svg\" alt=\"Open In Colab\"/></a>"
      ]
    },
    {
      "cell_type": "code",
      "execution_count": null,
      "metadata": {
        "id": "3E0OrXhrb5yZ"
      },
      "outputs": [],
      "source": [
        "\n",
        "import os\n",
        "import glob\n",
        "\n",
        "import shutil\n",
        "import zipfile\n",
        "\n",
        "import pandas as pd\n",
        "from tqdm import tqdm"
      ]
    },
    {
      "cell_type": "code",
      "source": [
        "\n",
        "from google.colab import drive\n",
        "drive.mount('/content/drive')"
      ],
      "metadata": {
        "colab": {
          "base_uri": "https://localhost:8080/"
        },
        "id": "UFbPOCcGb7re",
        "outputId": "68e5fea2-3b9e-474e-b92e-1bb3182a499a"
      },
      "execution_count": null,
      "outputs": [
        {
          "output_type": "stream",
          "name": "stdout",
          "text": [
            "Mounted at /content/drive\n"
          ]
        }
      ]
    },
    {
      "cell_type": "code",
      "source": [
        "# 소스 파일 경로\n",
        "source_file_path = '/content/drive/MyDrive/archive.zip'\n",
        "\n",
        "# 대상 파일 경로\n",
        "target_file_path = '/content/archive.zip'\n",
        "\n",
        "# 파일 복사\n",
        "shutil.copyfile(source_file_path, target_file_path)"
      ],
      "metadata": {
        "colab": {
          "base_uri": "https://localhost:8080/",
          "height": 35
        },
        "id": "MqbAQvAMcEWO",
        "outputId": "056f473a-9815-4594-c2bd-eb6a953b296b"
      },
      "execution_count": null,
      "outputs": [
        {
          "output_type": "execute_result",
          "data": {
            "text/plain": [
              "'/content/archive.zip'"
            ],
            "application/vnd.google.colaboratory.intrinsic+json": {
              "type": "string"
            }
          },
          "metadata": {},
          "execution_count": 3
        }
      ]
    },
    {
      "cell_type": "code",
      "source": [
        "\n",
        "# 언집할 폴더 경로\n",
        "target_folder_path = '/content'\n",
        "\n",
        "# ZIP 파일 언집\n",
        "with zipfile.ZipFile(target_file_path, 'r') as zip_ref:\n",
        "    zip_ref.extractall(target_folder_path)"
      ],
      "metadata": {
        "id": "_Bq1EKadcGjn"
      },
      "execution_count": null,
      "outputs": []
    },
    {
      "cell_type": "code",
      "source": [
        "def resd_csv(dir_path):\n",
        "    colname = ['Hour' , 'Minute' , 'Second', 'microsecond', 'Horiz', 'Vert']\n",
        "\n",
        "    # 디렉토리 내의 모든 CSV 파일 경로를 가져오기\n",
        "    file_paths = glob.glob(dir_path + '/*.csv')\n",
        "\n",
        "    # 파일 경로를 순서대로 정렬\n",
        "    file_paths = sorted(file_paths)\n",
        "\n",
        "    # 파일들을 담을 빈 DataFrame 생성\n",
        "    combined_data = pd.DataFrame()\n",
        "\n",
        "    # acc 파일만 불러오기 (파일명에 'acc'가 포함된 파일들)\n",
        "    acc_file_paths = [file_path for file_path in file_paths if 'acc' in file_path]\n",
        "\n",
        "    # 각 파일을 순회하며 데이터를 불러온 뒤 빈 DataFrame에 추가\n",
        "    for file_path in acc_file_paths:\n",
        "        if dir_path == '/content/ieee-phm-2012-data-challenge-dataset-master/Full_Test_Set/Bearing1_4':\n",
        "            # Split the values in the single column into separate columns using the 'str.split()' function\n",
        "            # Bearing1_4의 경우 한열에 모든 열이 들어 있다 ';'으로 구분됨\n",
        "            df = pd.read_csv(file_path, sep=';', names=colname, header=None)\n",
        "        else:\n",
        "            df = pd.read_csv(file_path, names=colname, header=None)  # 첫 번째 행을 인덱스로 사용하지 않음\n",
        "        combined_data = pd.concat([combined_data, df], ignore_index=True, axis=0)\n",
        "    return combined_data"
      ],
      "metadata": {
        "id": "wTZQDIWwcLkG"
      },
      "execution_count": null,
      "outputs": []
    },
    {
      "cell_type": "code",
      "source": [
        "def convert_timestamp(df):\n",
        "    # Convert timestamp columns to integers and create a new DataFrame with these values\n",
        "    timestamp_integers = df[['Hour' , 'Minute' , 'Second', 'microsecond']].astype(int)\n",
        "    timestamp_integers.columns = ['hour', 'minute', 'second', 'microsecond']\n",
        "\n",
        "    # Combine the integer values to form a string in the format 'HH:MM:SS.microseconds'\n",
        "    df['timestamp'] = timestamp_integers.apply(lambda x: f\"{x['hour']:02d}:{x['minute']:02d}:{x['second']:02d}.{x['microsecond']:06d}\", axis=1)\n",
        "\n",
        "    # Convert the 'timestamp' column to a Pandas datetime object\n",
        "    df['timestamp'] = pd.to_datetime(df['timestamp'], format='%H:%M:%S.%f')\n",
        "\n",
        "    # Remove the date part from the 'timestamp' column\n",
        "    df['timestamp'] = df['timestamp'].dt.time\n",
        "\n",
        "    df = df.drop(['Hour' , 'Minute' , 'Second', 'microsecond'], axis=1)\n",
        "    df = df.reindex(columns=['timestamp', 'Horiz', 'Vert'])\n",
        "\n",
        "    return df"
      ],
      "metadata": {
        "id": "cc2-2-P-cY3A"
      },
      "execution_count": null,
      "outputs": []
    },
    {
      "cell_type": "code",
      "source": [
        "\n",
        "def get_second_level_folders(directory):\n",
        "    second_level_folders = []\n",
        "    for root, dirs, files in os.walk(directory):\n",
        "        if root != directory:  # Exclude the top-level directory\n",
        "            for folder_name in dirs:\n",
        "                second_level_folders.append(os.path.join(root, folder_name))\n",
        "    return second_level_folders"
      ],
      "metadata": {
        "id": "rF86ceCTccZu"
      },
      "execution_count": null,
      "outputs": []
    },
    {
      "cell_type": "code",
      "source": [
        "def save_csv(path):\n",
        "    df = resd_csv(path)\n",
        "    df = convert_timestamp(df)\n",
        "    if not os.path.exists('/content/drive/MyDrive/merged_dataset'):\n",
        "        os.makedirs('/content/drive/MyDrive/merged_dataset')\n",
        "    file_name = '_'.join([path.split('/')[3], path.split('/')[4]])\n",
        "    df.to_csv(f'/content/drive/MyDrive/merged_dataset/{file_name}.csv', index=False)"
      ],
      "metadata": {
        "id": "C3Dt44WEceVu"
      },
      "execution_count": null,
      "outputs": []
    },
    {
      "cell_type": "code",
      "source": [
        "\n",
        "directory_path = '/content/ieee-phm-2012-data-challenge-dataset-master'\n",
        "second_level_folders = get_second_level_folders(directory_path)\n"
      ],
      "metadata": {
        "id": "o4vu5kracgMv"
      },
      "execution_count": null,
      "outputs": []
    },
    {
      "cell_type": "code",
      "source": [
        "\n",
        "for bearing in tqdm(second_level_folders):\n",
        "    save_csv(bearing)"
      ],
      "metadata": {
        "colab": {
          "base_uri": "https://localhost:8080/"
        },
        "id": "Gxk54MBbciGm",
        "outputId": "655bd7c3-cea8-4559-906a-8c28cfe994aa"
      },
      "execution_count": null,
      "outputs": [
        {
          "output_type": "stream",
          "name": "stderr",
          "text": [
            "100%|██████████| 28/28 [1:15:39<00:00, 162.13s/it]\n"
          ]
        }
      ]
    }
  ]
}